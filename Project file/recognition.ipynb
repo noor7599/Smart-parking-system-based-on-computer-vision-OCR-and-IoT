{
 "cells": [
  {
   "cell_type": "code",
   "execution_count": 1,
   "metadata": {},
   "outputs": [
    {
     "ename": "KeyboardInterrupt",
     "evalue": "",
     "output_type": "error",
     "traceback": [
      "\u001b[1;31m---------------------------------------------------------------------------\u001b[0m",
      "\u001b[1;31mKeyboardInterrupt\u001b[0m                         Traceback (most recent call last)",
      "Cell \u001b[1;32mIn[1], line 1\u001b[0m\n\u001b[1;32m----> 1\u001b[0m \u001b[38;5;28;01mfrom\u001b[39;00m \u001b[38;5;21;01mcommonfunctions\u001b[39;00m \u001b[38;5;28;01mimport\u001b[39;00m \u001b[38;5;241m*\u001b[39m\n\u001b[0;32m      2\u001b[0m \u001b[38;5;28;01mimport\u001b[39;00m \u001b[38;5;21;01mnumpy\u001b[39;00m \u001b[38;5;28;01mas\u001b[39;00m \u001b[38;5;21;01mnp\u001b[39;00m\n\u001b[0;32m      3\u001b[0m \u001b[38;5;28;01mimport\u001b[39;00m \u001b[38;5;21;01mskimage\u001b[39;00m\u001b[38;5;21;01m.\u001b[39;00m\u001b[38;5;21;01mio\u001b[39;00m \u001b[38;5;28;01mas\u001b[39;00m \u001b[38;5;21;01mio\u001b[39;00m\n",
      "File \u001b[1;32m~\\AppData\\Roaming\\Python\\Python312\\site-packages\\debugpy\\_vendored\\pydevd\\_pydevd_bundle\\pydevd_frame.py:988\u001b[0m, in \u001b[0;36mPyDBFrame.trace_dispatch\u001b[1;34m(self, frame, event, arg)\u001b[0m\n\u001b[0;32m    986\u001b[0m \u001b[38;5;66;03m# if thread has a suspend flag, we suspend with a busy wait\u001b[39;00m\n\u001b[0;32m    987\u001b[0m \u001b[38;5;28;01mif\u001b[39;00m info\u001b[38;5;241m.\u001b[39mpydev_state \u001b[38;5;241m==\u001b[39m STATE_SUSPEND:\n\u001b[1;32m--> 988\u001b[0m     \u001b[38;5;28;43mself\u001b[39;49m\u001b[38;5;241;43m.\u001b[39;49m\u001b[43mdo_wait_suspend\u001b[49m\u001b[43m(\u001b[49m\u001b[43mthread\u001b[49m\u001b[43m,\u001b[49m\u001b[43m \u001b[49m\u001b[43mframe\u001b[49m\u001b[43m,\u001b[49m\u001b[43m \u001b[49m\u001b[43mevent\u001b[49m\u001b[43m,\u001b[49m\u001b[43m \u001b[49m\u001b[43marg\u001b[49m\u001b[43m)\u001b[49m\n\u001b[0;32m    989\u001b[0m     \u001b[38;5;28;01mreturn\u001b[39;00m \u001b[38;5;28mself\u001b[39m\u001b[38;5;241m.\u001b[39mtrace_dispatch\n\u001b[0;32m    990\u001b[0m \u001b[38;5;28;01melse\u001b[39;00m:\n",
      "File \u001b[1;32m~\\AppData\\Roaming\\Python\\Python312\\site-packages\\debugpy\\_vendored\\pydevd\\_pydevd_bundle\\pydevd_frame.py:165\u001b[0m, in \u001b[0;36mPyDBFrame.do_wait_suspend\u001b[1;34m(self, *args, **kwargs)\u001b[0m\n\u001b[0;32m    164\u001b[0m \u001b[38;5;28;01mdef\u001b[39;00m \u001b[38;5;21mdo_wait_suspend\u001b[39m(\u001b[38;5;28mself\u001b[39m, \u001b[38;5;241m*\u001b[39margs, \u001b[38;5;241m*\u001b[39m\u001b[38;5;241m*\u001b[39mkwargs):\n\u001b[1;32m--> 165\u001b[0m     \u001b[38;5;28;43mself\u001b[39;49m\u001b[38;5;241;43m.\u001b[39;49m\u001b[43m_args\u001b[49m\u001b[43m[\u001b[49m\u001b[38;5;241;43m0\u001b[39;49m\u001b[43m]\u001b[49m\u001b[38;5;241;43m.\u001b[39;49m\u001b[43mdo_wait_suspend\u001b[49m\u001b[43m(\u001b[49m\u001b[38;5;241;43m*\u001b[39;49m\u001b[43margs\u001b[49m\u001b[43m,\u001b[49m\u001b[43m \u001b[49m\u001b[38;5;241;43m*\u001b[39;49m\u001b[38;5;241;43m*\u001b[39;49m\u001b[43mkwargs\u001b[49m\u001b[43m)\u001b[49m\n",
      "File \u001b[1;32m~\\AppData\\Roaming\\Python\\Python312\\site-packages\\debugpy\\_vendored\\pydevd\\pydevd.py:2070\u001b[0m, in \u001b[0;36mPyDB.do_wait_suspend\u001b[1;34m(self, thread, frame, event, arg, exception_type)\u001b[0m\n\u001b[0;32m   2067\u001b[0m             from_this_thread\u001b[38;5;241m.\u001b[39mappend(frame_custom_thread_id)\n\u001b[0;32m   2069\u001b[0m     \u001b[38;5;28;01mwith\u001b[39;00m \u001b[38;5;28mself\u001b[39m\u001b[38;5;241m.\u001b[39m_threads_suspended_single_notification\u001b[38;5;241m.\u001b[39mnotify_thread_suspended(thread_id, thread, stop_reason):\n\u001b[1;32m-> 2070\u001b[0m         keep_suspended \u001b[38;5;241m=\u001b[39m \u001b[38;5;28;43mself\u001b[39;49m\u001b[38;5;241;43m.\u001b[39;49m\u001b[43m_do_wait_suspend\u001b[49m\u001b[43m(\u001b[49m\u001b[43mthread\u001b[49m\u001b[43m,\u001b[49m\u001b[43m \u001b[49m\u001b[43mframe\u001b[49m\u001b[43m,\u001b[49m\u001b[43m \u001b[49m\u001b[43mevent\u001b[49m\u001b[43m,\u001b[49m\u001b[43m \u001b[49m\u001b[43marg\u001b[49m\u001b[43m,\u001b[49m\u001b[43m \u001b[49m\u001b[43msuspend_type\u001b[49m\u001b[43m,\u001b[49m\u001b[43m \u001b[49m\u001b[43mfrom_this_thread\u001b[49m\u001b[43m,\u001b[49m\u001b[43m \u001b[49m\u001b[43mframes_tracker\u001b[49m\u001b[43m)\u001b[49m\n\u001b[0;32m   2072\u001b[0m frames_list \u001b[38;5;241m=\u001b[39m \u001b[38;5;28;01mNone\u001b[39;00m\n\u001b[0;32m   2074\u001b[0m \u001b[38;5;28;01mif\u001b[39;00m keep_suspended:\n\u001b[0;32m   2075\u001b[0m     \u001b[38;5;66;03m# This means that we should pause again after a set next statement.\u001b[39;00m\n",
      "File \u001b[1;32m~\\AppData\\Roaming\\Python\\Python312\\site-packages\\debugpy\\_vendored\\pydevd\\pydevd.py:2106\u001b[0m, in \u001b[0;36mPyDB._do_wait_suspend\u001b[1;34m(self, thread, frame, event, arg, suspend_type, from_this_thread, frames_tracker)\u001b[0m\n\u001b[0;32m   2103\u001b[0m         \u001b[38;5;28mself\u001b[39m\u001b[38;5;241m.\u001b[39m_call_input_hook()\n\u001b[0;32m   2105\u001b[0m     \u001b[38;5;28mself\u001b[39m\u001b[38;5;241m.\u001b[39mprocess_internal_commands()\n\u001b[1;32m-> 2106\u001b[0m     \u001b[43mtime\u001b[49m\u001b[38;5;241;43m.\u001b[39;49m\u001b[43msleep\u001b[49m\u001b[43m(\u001b[49m\u001b[38;5;241;43m0.01\u001b[39;49m\u001b[43m)\u001b[49m\n\u001b[0;32m   2108\u001b[0m \u001b[38;5;28mself\u001b[39m\u001b[38;5;241m.\u001b[39mcancel_async_evaluation(get_current_thread_id(thread), \u001b[38;5;28mstr\u001b[39m(\u001b[38;5;28mid\u001b[39m(frame)))\n\u001b[0;32m   2110\u001b[0m \u001b[38;5;66;03m# process any stepping instructions\u001b[39;00m\n",
      "\u001b[1;31mKeyboardInterrupt\u001b[0m: "
     ]
    }
   ],
   "source": [
    "from commonfunctions import *\n",
    "import numpy as np\n",
    "import skimage.io as io\n",
    "import matplotlib.pyplot as plt\n",
    "from skimage.color import rgb2gray\n",
    "from scipy import signal\n",
    "from skimage.transform import rescale, resize, downscale_local_mean\n",
    "import math\n",
    "import os\n",
    "from skimage.morphology import binary_erosion, binary_dilation\n",
    "import cv2 as cv\n",
    "import cv2 as cv2\n",
    " \n",
    "import numba\n",
    "from numba import jit"
   ]
  },
  {
   "cell_type": "code",
   "execution_count": null,
   "metadata": {},
   "outputs": [
    {
     "ename": "",
     "evalue": "",
     "output_type": "error",
     "traceback": [
      "\u001b[1;31mFailed to start the Kernel. \n",
      "\u001b[1;31mUnable to start Kernel 'Python 3.12.0' due to a connection timeout. \n",
      "\u001b[1;31mView Jupyter <a href='command:jupyter.viewOutput'>log</a> for further details."
     ]
    }
   ],
   "source": [
    "@jit(nopython=True,parallel=True)\n",
    "def my_resize(img, w, h):\n",
    "    new_img = np.zeros(shape=(w, h))\n",
    "    width,height = img.shape\n",
    "    Xwmin = 0\n",
    "    Ywmin = 0\n",
    "    Xwmax = width - 1\n",
    "    Ywmax = height - 1\n",
    "    Xvmin = 0\n",
    "    Yvmin = 0\n",
    "    Xvmax = w - 1\n",
    "    Yvmax = h - 1\n",
    "    Sx = (Xvmax - Xvmin)/(Xwmax - Xwmin)\n",
    "    Sy = (Yvmax - Yvmin)/(Ywmax - Ywmin)\n",
    "    for i in range(height):\n",
    "        new_i = int(Yvmin + (i - Ywmin) * Sy)\n",
    "        for j in range(width):\n",
    "            new_j = int(Xvmin + (j - Xwmin) * Sx)\n",
    "            new_img[new_j][new_i] = img[j][i]\n",
    "    return new_img      \n",
    "\n",
    "\n",
    "\n",
    "# image = cv2.imread('Arabic letters/letters/tah/tah.jpg',0)\n",
    "# img_resized = my_resize(image, 30, 40)\n",
    "# show_images([image,img_resized])"
   ]
  },
  {
   "cell_type": "code",
   "execution_count": null,
   "metadata": {},
   "outputs": [
    {
     "ename": "",
     "evalue": "",
     "output_type": "error",
     "traceback": [
      "\u001b[1;31mFailed to start the Kernel. \n",
      "\u001b[1;31mUnable to start Kernel 'Python 3.12.0' due to a connection timeout. \n",
      "\u001b[1;31mView Jupyter <a href='command:jupyter.viewOutput'>log</a> for further details."
     ]
    }
   ],
   "source": [
    "@jit(nopython=True,parallel=True)\n",
    "def char_calculations(A, width, height):\n",
    "    A_mean = A.mean()\n",
    "    col_A = 0\n",
    "    corr_A = 0\n",
    "    sum_list = np.zeros(shape=(height,width))\n",
    "    img_row = 0\n",
    "    while img_row < height:\n",
    "        img_col = 0\n",
    "        while img_col < width:\n",
    "            col_A += (A[img_row, img_col] - A_mean) ** 2\n",
    "            sum_list[img_row][img_col] = abs(A[img_row, img_col] - A_mean)\n",
    "            img_col = img_col + 1\n",
    "        corr_A += col_A\n",
    "        col_A = 0\n",
    "        img_row = img_row + 1  \n",
    "    return corr_A,sum_list  "
   ]
  },
  {
   "cell_type": "code",
   "execution_count": null,
   "metadata": {},
   "outputs": [
    {
     "ename": "",
     "evalue": "",
     "output_type": "error",
     "traceback": [
      "\u001b[1;31mFailed to start the Kernel. \n",
      "\u001b[1;31mUnable to start Kernel 'Python 3.12.0' due to a connection timeout. \n",
      "\u001b[1;31mView Jupyter <a href='command:jupyter.viewOutput'>log</a> for further details."
     ]
    }
   ],
   "source": [
    "width = 120\n",
    "height = 120\n",
    "\n",
    "class character:\n",
    "    def __init__(self, char, template):\n",
    "        self.char = char\n",
    "        self.template = cv2.imread(template,cv.IMREAD_GRAYSCALE)\n",
    "        self.col_sum = np.zeros(shape=(height,width))\n",
    "        self.corr = 0\n",
    "        \n",
    "        \n",
    "\n",
    "database_characters = []\n",
    "\n",
    "# Letters\n",
    "Alf = character(\"alf\", 'Final_All_pgm_charachters_inNumbersSequence_new/alf3.jpg')\n",
    "Alf2 = character(\"alf\", 'Final_All_pgm_charachters_inNumbersSequence_new/alf5.png')\n",
    "Sen = character(\"sen\", 'Final_All_pgm_charachters_inNumbersSequence_new/sen.jpg')\n",
    "Non = character(\"non\", 'Final_All_pgm_charachters_inNumbersSequence_new/non2.png')\n",
    "Non2 = character(\"non\", 'Final_All_pgm_charachters_inNumbersSequence_new/non5.png')\n",
    "Yeh = character(\"yeh\", 'Final_All_pgm_charachters_inNumbersSequence_new/yeh.jpg')\n",
    "Lam = character(\"lam\", 'Final_All_pgm_charachters_inNumbersSequence_new/lam3.jpg')\n",
    "Lam2 = character(\"lam\", 'Final_All_pgm_charachters_inNumbersSequence_new/lam.png')\n",
    "Bih = character(\"bih\", 'Final_All_pgm_charachters_inNumbersSequence_new/30.jpg')\n",
    "Dal = character(\"dal\", 'Final_All_pgm_charachters_inNumbersSequence_new/32.jpg')\n",
    "Dal2 = character(\"dal\", 'Final_All_pgm_charachters_inNumbersSequence_new/dal4.jpg')\n",
    "Reh = character(\"reh\", 'Final_All_pgm_charachters_inNumbersSequence_new/36.jpg')\n",
    "Reh2 = character(\"reh\", 'Final_All_pgm_charachters_inNumbersSequence_new/reh5.png')\n",
    "Kaf = character(\"kaf\", 'Final_All_pgm_charachters_inNumbersSequence_new/86.jpg')\n",
    "Kaf2 = character(\"kaf\", 'Final_All_pgm_charachters_inNumbersSequence_new/88.jpg')\n",
    "Mim = character(\"mim\", 'Final_All_pgm_charachters_inNumbersSequence_new/33.jpg')\n",
    "Waw = character(\"waw\", 'Final_All_pgm_charachters_inNumbersSequence_new/7.jpg')\n",
    "Waw2 = character(\"waw\", 'Final_All_pgm_charachters_inNumbersSequence_new/waw2.jpg')\n",
    "Tah = character(\"tah\", 'Final_All_pgm_charachters_inNumbersSequence_new/82.jpg')\n",
    "Sad = character(\"sad\", 'Final_All_pgm_charachters_inNumbersSequence_new/42.jpg')\n",
    "Gem = character(\"gem\", 'Final_All_pgm_charachters_inNumbersSequence_new/102.jpg')\n",
    "Ein = character(\"ein\", 'Final_All_pgm_charachters_inNumbersSequence_new/ein.png')\n",
    "Heh = character(\"heh\", 'Final_All_pgm_charachters_inNumbersSequence_new/heh2.jpg')\n",
    "Heh2 = character(\"heh\", 'Final_All_pgm_charachters_inNumbersSequence_new/heh3.png')\n",
    "Heh3 = character(\"heh\", 'Final_All_pgm_charachters_inNumbersSequence_new/heh4.png')\n",
    "Fih = character(\"Fih\", 'Final_All_pgm_charachters_inNumbersSequence_new/fih3.png')\n",
    "Fih2 = character(\"Fih\", 'Final_All_pgm_charachters_inNumbersSequence_new/fih2.jpg')\n",
    "Yeh = character(\"yeh\", 'Final_All_pgm_charachters_inNumbersSequence_new/yeh.jpg')\n",
    "\n",
    "dim = (width,height)\n",
    "Alf.template = cv.resize(Alf.template, dim, interpolation = cv.INTER_AREA)\n",
    "Alf2.template = cv.resize(Alf2.template, dim, interpolation = cv.INTER_AREA)\n",
    "Sen.template = cv.resize(Sen.template , dim, interpolation = cv.INTER_AREA)\n",
    "Non.template = cv.resize(Non.template , dim, interpolation = cv.INTER_AREA)\n",
    "Non2.template =cv.resize(Non2.template, dim, interpolation = cv.INTER_AREA)\n",
    "Yeh.template = cv.resize(Yeh.template , dim, interpolation = cv.INTER_AREA)\n",
    "Lam.template = cv.resize(Lam.template , dim, interpolation = cv.INTER_AREA)\n",
    "Lam2.template =cv.resize(Lam2.template, dim, interpolation = cv.INTER_AREA)\n",
    "Bih.template = cv.resize(Bih.template , dim, interpolation = cv.INTER_AREA)\n",
    "Dal.template = cv.resize(Dal.template , dim, interpolation = cv.INTER_AREA)\n",
    "Dal2.template =cv.resize(Dal2.template, dim, interpolation = cv.INTER_AREA)\n",
    "Reh.template = cv.resize(Reh.template , dim, interpolation = cv.INTER_AREA)\n",
    "Reh2.template =cv.resize(Reh2.template, dim, interpolation = cv.INTER_AREA)\n",
    "Kaf.template = cv.resize(Kaf.template , dim, interpolation = cv.INTER_AREA)\n",
    "Kaf2.template =cv.resize(Kaf2.template, dim, interpolation = cv.INTER_AREA)\n",
    "Mim.template = cv.resize(Mim.template , dim, interpolation = cv.INTER_AREA)\n",
    "Waw.template = cv.resize(Waw.template , dim, interpolation = cv.INTER_AREA)\n",
    "Waw2.template =cv.resize(Waw2.template, dim, interpolation = cv.INTER_AREA)\n",
    "Tah.template = cv.resize(Tah.template , dim, interpolation = cv.INTER_AREA)\n",
    "Sad.template = cv.resize(Sad.template , dim, interpolation = cv.INTER_AREA)\n",
    "Gem.template = cv.resize(Gem.template , dim, interpolation = cv.INTER_AREA)\n",
    "Ein.template = cv.resize(Ein.template , dim, interpolation = cv.INTER_AREA)\n",
    "Heh.template = cv.resize(Heh.template , dim, interpolation = cv.INTER_AREA)\n",
    "Heh2.template =cv.resize(Heh2.template, dim, interpolation = cv.INTER_AREA)\n",
    "Heh3.template =cv.resize(Heh3.template, dim, interpolation = cv.INTER_AREA)\n",
    "Fih.template = cv.resize(Fih.template , dim, interpolation = cv.INTER_AREA)\n",
    "Fih2.template =cv.resize(Fih2.template, dim, interpolation = cv.INTER_AREA)\n",
    "Yeh.template = cv.resize(Yeh.template , dim, interpolation = cv.INTER_AREA)\n",
    "\n",
    "\n",
    "Alf.corr, Alf.col_sum = char_calculations(Alf.template, height, width)\n",
    "Alf2.corr, Alf2.col_sum = char_calculations(Alf2.template, height, width)\n",
    "Sen.corr, Sen.col_sum = char_calculations(Sen.template, height, width)\n",
    "Non.corr, Non.col_sum = char_calculations(Non.template, height, width)\n",
    "Non2.corr, Non2.col_sum = char_calculations(Non2.template, height, width)\n",
    "Yeh.corr, Yeh.col_sum = char_calculations(Yeh.template, height, width)\n",
    "Lam.corr, Lam.col_sum = char_calculations(Lam.template, height, width)\n",
    "Lam2.corr, Lam2.col_sum = char_calculations(Lam2.template, height, width)\n",
    "Bih.corr, Bih.col_sum = char_calculations(Bih.template, height, width)\n",
    "Dal.corr, Dal.col_sum = char_calculations(Dal.template, height, width)\n",
    "Dal2.corr, Dal2.col_sum = char_calculations(Dal2.template, height, width)\n",
    "Reh.corr, Reh.col_sum = char_calculations(Reh.template, height, width)\n",
    "Reh2.corr, Reh2.col_sum = char_calculations(Reh2.template, height, width)\n",
    "Kaf.corr, Kaf.col_sum = char_calculations(Kaf.template, height, width)\n",
    "Kaf2.corr, Kaf2.col_sum = char_calculations(Kaf2.template, height, width)\n",
    "Mim.corr, Mim.col_sum = char_calculations(Mim.template, height, width)\n",
    "Waw.corr, Waw.col_sum = char_calculations(Waw.template, height, width)\n",
    "Waw2.corr, Waw2.col_sum = char_calculations(Waw2.template, height, width)\n",
    "Tah.corr, Tah.col_sum = char_calculations(Tah.template, height, width)\n",
    "Sad.corr, Sad.col_sum = char_calculations(Sad.template, height, width)\n",
    "Gem.corr, Gem.col_sum = char_calculations(Gem.template, height, width)\n",
    "Ein.corr, Ein.col_sum = char_calculations(Ein.template, height, width)\n",
    "Heh.corr, Heh.col_sum = char_calculations(Heh.template, height, width)\n",
    "Heh2.corr, Heh2.col_sum = char_calculations(Heh2.template, height, width)\n",
    "Heh3.corr, Heh3.col_sum = char_calculations(Heh3.template, height, width)\n",
    "Fih.corr, Fih.col_sum = char_calculations(Fih.template, height, width)\n",
    "Fih2.corr, Fih2.col_sum = char_calculations(Fih2.template, height, width)\n",
    "Yeh.corr, Yeh.col_sum = char_calculations(Yeh.template, height, width)\n",
    "\n",
    "\n",
    "# Numbers\n",
    "One = character(\"1\", 'Final_All_pgm_charachters_inNumbersSequence_new/3.jpg')\n",
    "Two = character(\"2\", 'Final_All_pgm_charachters_inNumbersSequence_new/4.jpg')\n",
    "Three = character(\"3\", 'Final_All_pgm_charachters_inNumbersSequence_new/8.jpg')\n",
    "Four = character(\"4\", 'Final_All_pgm_charachters_inNumbersSequence_new/11.jpg')\n",
    "Five = character(\"5\", 'Final_All_pgm_charachters_inNumbersSequence_new/15.jpg')\n",
    "Six = character(\"6\", 'Final_All_pgm_charachters_inNumbersSequence_new/18.jpg')\n",
    "Seven = character(\"7\", 'Final_All_pgm_charachters_inNumbersSequence_new/21.jpg')\n",
    "Eight = character(\"8\", 'Final_All_pgm_charachters_inNumbersSequence_new/25.jpg')\n",
    "Nine = character(\"9\", 'Final_All_pgm_charachters_inNumbersSequence_new/27.jpg')\n",
    "\n",
    "\n",
    "\n",
    "One.template =   cv.resize(One.template , dim, interpolation = cv.INTER_AREA)\n",
    "Two.template =   cv.resize(Two.template , dim, interpolation = cv.INTER_AREA)\n",
    "Three.template = cv.resize(Three.template , dim, interpolation = cv.INTER_AREA)\n",
    "Four.template =  cv.resize(Four.template , dim, interpolation = cv.INTER_AREA)\n",
    "Five.template =  cv.resize(Five.template , dim, interpolation = cv.INTER_AREA)\n",
    "Six.template =   cv.resize(Six.template , dim, interpolation = cv.INTER_AREA)\n",
    "Seven.template = cv.resize(Seven.template , dim, interpolation = cv.INTER_AREA)\n",
    "Eight.template = cv.resize(Eight.template , dim, interpolation = cv.INTER_AREA)\n",
    "Nine.template =  cv.resize(Nine.template , dim, interpolation = cv.INTER_AREA)\n",
    "\n",
    "\n",
    "One.corr, One.col_sum = char_calculations(One.template, height, width)\n",
    "Two.corr, Two.col_sum = char_calculations(Two.template, height, width)\n",
    "Three.corr, Three.col_sum = char_calculations(Three.template, height, width)\n",
    "Four.corr, Four.col_sum = char_calculations(Four.template, height, width)\n",
    "Five.corr, Five.col_sum = char_calculations(Five.template, height, width)\n",
    "Six.corr, Six.col_sum = char_calculations(Six.template, height, width)\n",
    "Seven.corr, Seven.col_sum = char_calculations(Seven.template, height, width)\n",
    "Eight.corr, Eight.col_sum = char_calculations(Eight.template, height, width)\n",
    "Nine.corr, Nine.col_sum = char_calculations(Nine.template, height, width)\n",
    "\n",
    "# Add to database\n",
    "database_characters.append(Alf)\n",
    "database_characters.append(Alf2)\n",
    "database_characters.append(Bih)\n",
    "database_characters.append(Dal)\n",
    "database_characters.append(Dal2)\n",
    "database_characters.append(Reh)\n",
    "database_characters.append(Reh2)\n",
    "database_characters.append(Sen)\n",
    "database_characters.append(Kaf)\n",
    "database_characters.append(Kaf2)\n",
    "database_characters.append(Mim)\n",
    "database_characters.append(Tah)\n",
    "database_characters.append(Sad)\n",
    "database_characters.append(Waw)\n",
    "database_characters.append(Waw2)\n",
    "database_characters.append(Gem)\n",
    "database_characters.append(Lam)\n",
    "# database_characters.append(Lam2)\n",
    "database_characters.append(Yeh)\n",
    "database_characters.append(Non)\n",
    "database_characters.append(Non2)\n",
    "database_characters.append(Ein)\n",
    "database_characters.append(Heh)\n",
    "database_characters.append(Heh2)\n",
    "database_characters.append(Heh3)\n",
    "database_characters.append(Fih)\n",
    "database_characters.append(Fih2)\n",
    "database_characters.append(Yeh)\n",
    "\n",
    "\n",
    "database_characters.append(One)\n",
    "database_characters.append(Two)\n",
    "database_characters.append(Three)\n",
    "database_characters.append(Four)\n",
    "database_characters.append(Five)\n",
    "database_characters.append(Six)\n",
    "database_characters.append(Seven)\n",
    "database_characters.append(Eight)\n",
    "database_characters.append(Nine)\n",
    "\n"
   ]
  },
  {
   "cell_type": "code",
   "execution_count": null,
   "metadata": {},
   "outputs": [
    {
     "ename": "",
     "evalue": "",
     "output_type": "error",
     "traceback": [
      "\u001b[1;31mFailed to start the Kernel. \n",
      "\u001b[1;31mUnable to start Kernel 'Python 3.12.0' due to a connection timeout. \n",
      "\u001b[1;31mView Jupyter <a href='command:jupyter.viewOutput'>log</a> for further details."
     ]
    }
   ],
   "source": [
    "@jit(nopython=True,parallel=True)\n",
    "def cal_corr(corr_A, corr_B, A_sum, B_sum):\n",
    "    corr_both = np.multiply(A_sum, B_sum)\n",
    "    corr_both = corr_both.sum()\n",
    "    r = corr_both / math.sqrt(corr_A * corr_B)\n",
    "    return r"
   ]
  },
  {
   "cell_type": "code",
   "execution_count": null,
   "metadata": {},
   "outputs": [
    {
     "ename": "",
     "evalue": "",
     "output_type": "error",
     "traceback": [
      "\u001b[1;31mFailed to start the Kernel. \n",
      "\u001b[1;31mUnable to start Kernel 'Python 3.12.0' due to a connection timeout. \n",
      "\u001b[1;31mView Jupyter <a href='command:jupyter.viewOutput'>log</a> for further details."
     ]
    }
   ],
   "source": [
    "def getSimilarity(img1, img2 ):\n",
    "    dim = (120,120)\n",
    "    img1 = cv2.GaussianBlur(img1,(19,19),0)\n",
    "    img2 = cv2.GaussianBlur(img2,(19,19),0)\n",
    "    img1 = cv.resize(img1, dim, interpolation = cv.INTER_AREA)\n",
    "    img2 = cv.resize(img2, dim, interpolation = cv.INTER_AREA)\n",
    "    ret2,img1 = cv.threshold(img1,0,255,cv.THRESH_BINARY+cv.THRESH_OTSU)\n",
    "    ret2,img2 = cv.threshold(img2,0,255,cv.THRESH_BINARY+cv.THRESH_OTSU)\n",
    "\n",
    "\n",
    "    sim = img1 - img2\n",
    "    sim = sim * sim\n",
    "    sim = np.sum(sim)\n",
    "    sim = np.sqrt(sim)\n",
    "    return sim;"
   ]
  },
  {
   "cell_type": "code",
   "execution_count": null,
   "metadata": {
    "scrolled": false
   },
   "outputs": [
    {
     "ename": "",
     "evalue": "",
     "output_type": "error",
     "traceback": [
      "\u001b[1;31mFailed to start the Kernel. \n",
      "\u001b[1;31mUnable to start Kernel 'Python 3.12.0' due to a connection timeout. \n",
      "\u001b[1;31mView Jupyter <a href='command:jupyter.viewOutput'>log</a> for further details."
     ]
    }
   ],
   "source": [
    "\n",
    "width = 120\n",
    "height = 120\n",
    "for i in os.listdir('jimjimOut/'):\n",
    "    Unk_char = character('Unk','jimjimOut/' + i)\n",
    "    Unk_char.corr, Unk_char.col_sum = char_calculations(Unk_char.template, height, width)\n",
    "    r = 500000000000\n",
    "    curr_r = 500000000000\n",
    "    \n",
    "    for j in database_characters:\n",
    "        curr_r = similarity = getSimilarity(Unk_char.template,j.template)\n",
    "#         curr_r = cal_corr(Unk_char.corr, j.corr, Unk_char.col_sum, j.col_sum)\n",
    "        if curr_r < r:\n",
    "            Unk_char.char = j.char\n",
    "            r = curr_r\n",
    "    show_images([Unk_char.template])        \n",
    "    print(Unk_char.char)\n"
   ]
  },
  {
   "cell_type": "code",
   "execution_count": null,
   "metadata": {},
   "outputs": [
    {
     "ename": "",
     "evalue": "",
     "output_type": "error",
     "traceback": [
      "\u001b[1;31mFailed to start the Kernel. \n",
      "\u001b[1;31mUnable to start Kernel 'Python 3.12.0' due to a connection timeout. \n",
      "\u001b[1;31mView Jupyter <a href='command:jupyter.viewOutput'>log</a> for further details."
     ]
    }
   ],
   "source": []
  },
  {
   "cell_type": "code",
   "execution_count": null,
   "metadata": {},
   "outputs": [
    {
     "ename": "",
     "evalue": "",
     "output_type": "error",
     "traceback": [
      "\u001b[1;31mFailed to start the Kernel. \n",
      "\u001b[1;31mUnable to start Kernel 'Python 3.12.0' due to a connection timeout. \n",
      "\u001b[1;31mView Jupyter <a href='command:jupyter.viewOutput'>log</a> for further details."
     ]
    }
   ],
   "source": []
  }
 ],
 "metadata": {
  "kernelspec": {
   "display_name": "Python 3",
   "language": "python",
   "name": "python3"
  },
  "language_info": {
   "codemirror_mode": {
    "name": "ipython",
    "version": 3
   },
   "file_extension": ".py",
   "mimetype": "text/x-python",
   "name": "python",
   "nbconvert_exporter": "python",
   "pygments_lexer": "ipython3",
   "version": "3.12.0"
  }
 },
 "nbformat": 4,
 "nbformat_minor": 2
}
